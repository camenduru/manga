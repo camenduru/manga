{
 "cells": [
  {
   "cell_type": "code",
   "execution_count": null,
   "metadata": {
    "vscode": {
     "languageId": "plaintext"
    }
   },
   "outputs": [],
   "source": [
    "import requests\n",
    "from PIL import Image\n",
    "from io import BytesIO\n",
    "\n",
    "url = 'https://comic.camenduru.workers.dev'\n",
    "headers = {\n",
    "    \"Content-Type\": \"application/json\"\n",
    "}\n",
    "data = {\n",
    "  \"input\": {\n",
    "    \"positive_prompt\": \"Juaner_cartoon,A curious mermaid with long blue hair, wearing a necklace made of seashells, holding a glowing pearl, swimming through an underwater cave filled with shimmering treasures and ancient ruins.\",\n",
    "    \"seed\": 0,\n",
    "    \"steps\": 20,\n",
    "    \"guidance\": 3.5,\n",
    "    \"lora_file\": \"j_cartoon_flux_bf16.safetensors\",\n",
    "    \"lora_strength_model\": 1,\n",
    "    \"lora_strength_clip\": 1,\n",
    "    \"sampler_name\": \"euler\",\n",
    "    \"scheduler\": \"simple\",\n",
    "    \"width\": 1024,\n",
    "    \"height\": 1024\n",
    "  }\n",
    "}\n",
    "response = requests.post(url, headers=headers, json=data)\n",
    "image_url = response.json()['output']['result']\n",
    "print(image_url)"
   ]
  }
 ],
 "metadata": {
  "language_info": {
   "name": "python"
  }
 },
 "nbformat": 4,
 "nbformat_minor": 2
}
